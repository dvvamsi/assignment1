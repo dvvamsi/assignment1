{
 "cells": [
  {
   "cell_type": "raw",
   "metadata": {},
   "source": [
    "1. In the below elements which of them are values or an expression? eg:- values can be integer or string and expressions will be mathematical operators.\n",
    "* \n",
    "'hello'\n",
    "-87.8\n",
    "- \n",
    "/ \n",
    "+\t\n",
    "6 \n",
    "Above all are values or expression"
   ]
  },
  {
   "cell_type": "raw",
   "metadata": {},
   "source": [
    "What is the difference between string and variable?\n",
    "String is which is having alphabets or numeric\n",
    "Variable is which we difine either string or integer"
   ]
  },
  {
   "cell_type": "raw",
   "metadata": {},
   "source": [
    "Describe three different data types.\n",
    "Integer\n",
    "String\n",
    "Float \n",
    "Boolean|"
   ]
  },
  {
   "cell_type": "raw",
   "metadata": {},
   "source": [
    "What is an expression made up of? What do all expressions do?\n",
    "Expression is of values, variable, function"
   ]
  },
  {
   "cell_type": "raw",
   "metadata": {},
   "source": [
    "This assignment statements, like spam = 10. What is the difference between an expression and a statement?\n",
    "statement is action to do something like print\n",
    "Expression is combination of values, variable, function"
   ]
  },
  {
   "cell_type": "raw",
   "metadata": {},
   "source": [
    "6. After running the following code, what does the variable bacon contain?\n",
    "bacon = 22\n",
    "bacon + 1\n",
    "23"
   ]
  },
  {
   "cell_type": "raw",
   "metadata": {},
   "source": [
    "7. What should the values of the following two terms be?\n",
    "'spam' + 'spamspam'\n",
    "'spam' * 3\n",
    "'spamspamspam'\n",
    "'spamspamspam'\n"
   ]
  },
  {
   "cell_type": "raw",
   "metadata": {},
   "source": [
    "8.Why is eggs a valid variable name while 100 is invalid?\n",
    "variable cant be define with integer"
   ]
  },
  {
   "cell_type": "raw",
   "metadata": {},
   "source": [
    "9. What three functions can be used to get the integer, floating-point number, or string version of a value?\n",
    "int() float() str()"
   ]
  },
  {
   "cell_type": "raw",
   "metadata": {},
   "source": [
    "10. Why does this expression cause an error? How can you fix it?\n",
    "'I have eaten ' + 99 + ' burritos.'\n",
    "We cannot concate int so we can keep int in single quotes like\n",
    "'I have eaten ' + '99' + ' burritos.'"
   ]
  },
  {
   "cell_type": "code",
   "execution_count": null,
   "metadata": {},
   "outputs": [],
   "source": []
  }
 ],
 "metadata": {
  "kernelspec": {
   "display_name": "Python 3",
   "language": "python",
   "name": "python3"
  },
  "language_info": {
   "codemirror_mode": {
    "name": "ipython",
    "version": 3
   },
   "file_extension": ".py",
   "mimetype": "text/x-python",
   "name": "python",
   "nbconvert_exporter": "python",
   "pygments_lexer": "ipython3",
   "version": "3.7.4"
  }
 },
 "nbformat": 4,
 "nbformat_minor": 2
}
